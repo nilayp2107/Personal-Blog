{
 "cells": [
  {
   "cell_type": "code",
   "execution_count": 1,
   "metadata": {},
   "outputs": [
    {
     "name": "stdout",
     "output_type": "stream",
     "text": [
      "1\n",
      "1\n",
      "1\n"
     ]
    }
   ],
   "source": [
    "a = b = c = 1\n",
    "print(a)\n",
    "print(b)\n",
    "print(c)"
   ]
  },
  {
   "cell_type": "code",
   "execution_count": 6,
   "metadata": {},
   "outputs": [
    {
     "name": "stdout",
     "output_type": "stream",
     "text": [
      "0.5623351446188083\n"
     ]
    }
   ],
   "source": [
    "import math \n",
    "\n",
    "p1 = 3/4\n",
    "p2 = 1/4\n",
    "loss = -p1 * math.log(p1) - p2 * math.log(p2)\n",
    "print(loss)"
   ]
  },
  {
   "cell_type": "code",
   "execution_count": 5,
   "metadata": {},
   "outputs": [
    {
     "name": "stdout",
     "output_type": "stream",
     "text": [
      "0.5941214285714285\n"
     ]
    }
   ],
   "source": [
    "loss1 = 0.56233\n",
    "loss2 = 0.63651\n",
    "prob1 = 4/7\n",
    "prob2 = 3/7\n",
    "entropy = loss1*prob1 + loss2*prob2\n",
    "print(entropy)"
   ]
  },
  {
   "cell_type": "code",
   "execution_count": null,
   "metadata": {},
   "outputs": [],
   "source": [
    "def loss(pa, pb):\n",
    "    p1a = pa\n",
    "    p2a = 1 - pa\n",
    "    p1b = pb\n",
    "    p2b = 1 - pb\n",
    "    lossa = -p1a * math.log(p1a) - p2a * math.log(p2a)\n",
    "    lossb = -p1b * math.log(p1b) - p2b * math.log(p2b)\n",
    "    return lossa, lossb"
   ]
  },
  {
   "cell_type": "code",
   "execution_count": null,
   "metadata": {},
   "outputs": [],
   "source": [
    "def entropy(lossa, lossb, proba, probb):\n",
    "    return lossa*proba + lossb*probb"
   ]
  }
 ],
 "metadata": {
  "kernelspec": {
   "display_name": "nilayvenv",
   "language": "python",
   "name": "python3"
  },
  "language_info": {
   "codemirror_mode": {
    "name": "ipython",
    "version": 3
   },
   "file_extension": ".py",
   "mimetype": "text/x-python",
   "name": "python",
   "nbconvert_exporter": "python",
   "pygments_lexer": "ipython3",
   "version": "3.11.5"
  }
 },
 "nbformat": 4,
 "nbformat_minor": 2
}
